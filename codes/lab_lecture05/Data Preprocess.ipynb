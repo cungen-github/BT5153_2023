{
 "cells": [
  {
   "cell_type": "markdown",
   "metadata": {},
   "source": [
    "## Data Preprcoessing for Rec. Sys.\n",
    "\n",
    "The data preparation process transforms the original dataset, groups the implicit feedbacks and interactions, and creates specific datasets for training and model testing.\n",
    "\n",
    "credit: [Marlesson](https://github.com/marlesson/recsys_autoencoders)"
   ]
  },
  {
   "cell_type": "markdown",
   "metadata": {},
   "source": [
    "### Datasets\n",
    "\n",
    "The dataset used in this project is Steam-Vide-Games obtained from https://www.kaggle.com/tamber/steam-video-games.\n",
    "\n",
    "This dataset is a list of user behaviors, with columns:`user_id`, `game`, `type`, `hours`, `none`. The type included are 'purchase' and 'play'. The value indicates the degree to which the behavior was performed - in the case of 'purchase' the value is always 1, and in the case of 'play' the value represents the number of hours the user has played the game.\n",
    "\n",
    "`../data/rec_data/raw/rating.csv`\n",
    "\n",
    "| user_id  | game | type | hours | none |\n",
    "| -------- | ---------------- | ---------------- | ----------- |  ------------ |\n",
    "| 151603712 | \"The Elder Scrolls V Skyrim\" | purchase | 1.0 | 0 |\n",
    "| 151603712 | \"The Elder Scrolls V Skyrim\" | play | 273.0 | 0 |\n",
    "| 151603712 | \"Fallout 4\" | purchase | 1.0 | 0 |\n",
    "| ... | ... | ... | ... | ... |\n",
    "\n",
    "\n",
    "### Data Preparation\n",
    "\n",
    "The data preparation process transforms the original dataset, groups the implicit feedbacks and interactions.\n",
    "\n",
    "Datasets created:\n",
    "* ../data/rec_data/articles_df.csv\n",
    "* ../data/rec_data/interactions_full_df.csv\n",
    "\n",
    "\n",
    "`articles_df.csv` contain the data exclusively of the items (games).\n",
    "\n",
    "| content_id  | game | total_users | total_hours |\n",
    "| -------- | ---------------- | ---------------- | ----------- | \n",
    "| 0 | 007 Legends | 1 | 1.7 |\n",
    "| 1 | 0RBITALIS | 3 | 4.2 |\n",
    "\n",
    "`interactions_full_df.csv` contain the data of interactions between user X item, amount of hours played (hours) and played (view) as implicit feedback.\n",
    "\n",
    "| user_id | content_id | game | hours | view | \n",
    "| -------- | ---------------- | ---------------- | ----------- |  ----------- | \n",
    "| 134  | 1680 | Far Cry 3 Blood Dragon | 2.2 | 1 |\n",
    "| 2219 | 1938 | Gone Home | 1.2 | 1 |\n",
    "| 3315 | 3711 | Serious Sam 3 BFE | 3.7 | 1 |"
   ]
  },
  {
   "cell_type": "markdown",
   "metadata": {},
   "source": [
    "### Tasks:\n",
    "\n",
    "1. Remove infrequent users\n",
    "\n",
    "2. Transform Data,groups the implicit feedbacks, interactions.\n"
   ]
  },
  {
   "cell_type": "code",
   "execution_count": 1,
   "metadata": {},
   "outputs": [],
   "source": [
    "import pandas as pd\n",
    "from sklearn.model_selection import train_test_split\n",
    "import numpy as np"
   ]
  },
  {
   "cell_type": "code",
   "execution_count": 2,
   "metadata": {},
   "outputs": [],
   "source": [
    "base_path = '../data/rec_data/raw/'\n",
    "\n",
    "# Contains logs of user interactions on shared articles\n",
    "interactions_df = pd.read_csv(base_path+'rating.csv', index_col=None, header=None)\n",
    "interactions_df.columns=['user_id', 'game', 'type', 'hours', 'none']"
   ]
  },
  {
   "cell_type": "code",
   "execution_count": 3,
   "metadata": {},
   "outputs": [
    {
     "data": {
      "text/html": [
       "<div>\n",
       "<style scoped>\n",
       "    .dataframe tbody tr th:only-of-type {\n",
       "        vertical-align: middle;\n",
       "    }\n",
       "\n",
       "    .dataframe tbody tr th {\n",
       "        vertical-align: top;\n",
       "    }\n",
       "\n",
       "    .dataframe thead th {\n",
       "        text-align: right;\n",
       "    }\n",
       "</style>\n",
       "<table border=\"1\" class=\"dataframe\">\n",
       "  <thead>\n",
       "    <tr style=\"text-align: right;\">\n",
       "      <th></th>\n",
       "      <th>user_id</th>\n",
       "      <th>game</th>\n",
       "      <th>type</th>\n",
       "      <th>hours</th>\n",
       "      <th>none</th>\n",
       "    </tr>\n",
       "  </thead>\n",
       "  <tbody>\n",
       "    <tr>\n",
       "      <th>0</th>\n",
       "      <td>151603712</td>\n",
       "      <td>The Elder Scrolls V Skyrim</td>\n",
       "      <td>purchase</td>\n",
       "      <td>1.0</td>\n",
       "      <td>0</td>\n",
       "    </tr>\n",
       "    <tr>\n",
       "      <th>1</th>\n",
       "      <td>151603712</td>\n",
       "      <td>The Elder Scrolls V Skyrim</td>\n",
       "      <td>play</td>\n",
       "      <td>273.0</td>\n",
       "      <td>0</td>\n",
       "    </tr>\n",
       "    <tr>\n",
       "      <th>2</th>\n",
       "      <td>151603712</td>\n",
       "      <td>Fallout 4</td>\n",
       "      <td>purchase</td>\n",
       "      <td>1.0</td>\n",
       "      <td>0</td>\n",
       "    </tr>\n",
       "    <tr>\n",
       "      <th>3</th>\n",
       "      <td>151603712</td>\n",
       "      <td>Fallout 4</td>\n",
       "      <td>play</td>\n",
       "      <td>87.0</td>\n",
       "      <td>0</td>\n",
       "    </tr>\n",
       "    <tr>\n",
       "      <th>4</th>\n",
       "      <td>151603712</td>\n",
       "      <td>Spore</td>\n",
       "      <td>purchase</td>\n",
       "      <td>1.0</td>\n",
       "      <td>0</td>\n",
       "    </tr>\n",
       "  </tbody>\n",
       "</table>\n",
       "</div>"
      ],
      "text/plain": [
       "     user_id                        game      type  hours  none\n",
       "0  151603712  The Elder Scrolls V Skyrim  purchase    1.0     0\n",
       "1  151603712  The Elder Scrolls V Skyrim      play  273.0     0\n",
       "2  151603712                   Fallout 4  purchase    1.0     0\n",
       "3  151603712                   Fallout 4      play   87.0     0\n",
       "4  151603712                       Spore  purchase    1.0     0"
      ]
     },
     "execution_count": 3,
     "metadata": {},
     "output_type": "execute_result"
    }
   ],
   "source": [
    "interactions_df.head()"
   ]
  },
  {
   "cell_type": "code",
   "execution_count": 4,
   "metadata": {},
   "outputs": [],
   "source": [
    "# Group interations by user_id and game\n",
    "interactions_full_df = interactions_df.groupby(['user_id', 'game'])\\\n",
    "                                      .sum()['hours'].reset_index()\n",
    "# View is 1 if interaction\n",
    "interactions_full_df['view'] = 1"
   ]
  },
  {
   "cell_type": "code",
   "execution_count": 5,
   "metadata": {},
   "outputs": [
    {
     "data": {
      "text/html": [
       "<div>\n",
       "<style scoped>\n",
       "    .dataframe tbody tr th:only-of-type {\n",
       "        vertical-align: middle;\n",
       "    }\n",
       "\n",
       "    .dataframe tbody tr th {\n",
       "        vertical-align: top;\n",
       "    }\n",
       "\n",
       "    .dataframe thead th {\n",
       "        text-align: right;\n",
       "    }\n",
       "</style>\n",
       "<table border=\"1\" class=\"dataframe\">\n",
       "  <thead>\n",
       "    <tr style=\"text-align: right;\">\n",
       "      <th></th>\n",
       "      <th>user_id</th>\n",
       "      <th>game</th>\n",
       "      <th>hours</th>\n",
       "      <th>view</th>\n",
       "    </tr>\n",
       "  </thead>\n",
       "  <tbody>\n",
       "    <tr>\n",
       "      <th>0</th>\n",
       "      <td>5250</td>\n",
       "      <td>Alien Swarm</td>\n",
       "      <td>5.9</td>\n",
       "      <td>1</td>\n",
       "    </tr>\n",
       "    <tr>\n",
       "      <th>1</th>\n",
       "      <td>5250</td>\n",
       "      <td>Cities Skylines</td>\n",
       "      <td>145.0</td>\n",
       "      <td>1</td>\n",
       "    </tr>\n",
       "    <tr>\n",
       "      <th>2</th>\n",
       "      <td>5250</td>\n",
       "      <td>Counter-Strike</td>\n",
       "      <td>1.0</td>\n",
       "      <td>1</td>\n",
       "    </tr>\n",
       "    <tr>\n",
       "      <th>3</th>\n",
       "      <td>5250</td>\n",
       "      <td>Counter-Strike Source</td>\n",
       "      <td>1.0</td>\n",
       "      <td>1</td>\n",
       "    </tr>\n",
       "    <tr>\n",
       "      <th>4</th>\n",
       "      <td>5250</td>\n",
       "      <td>Day of Defeat</td>\n",
       "      <td>1.0</td>\n",
       "      <td>1</td>\n",
       "    </tr>\n",
       "  </tbody>\n",
       "</table>\n",
       "</div>"
      ],
      "text/plain": [
       "   user_id                   game  hours  view\n",
       "0     5250            Alien Swarm    5.9     1\n",
       "1     5250        Cities Skylines  145.0     1\n",
       "2     5250         Counter-Strike    1.0     1\n",
       "3     5250  Counter-Strike Source    1.0     1\n",
       "4     5250          Day of Defeat    1.0     1"
      ]
     },
     "execution_count": 5,
     "metadata": {},
     "output_type": "execute_result"
    }
   ],
   "source": [
    "interactions_full_df.head()"
   ]
  },
  {
   "cell_type": "markdown",
   "metadata": {},
   "source": [
    "##### Filter Interactions"
   ]
  },
  {
   "cell_type": "code",
   "execution_count": 6,
   "metadata": {},
   "outputs": [
    {
     "name": "stdout",
     "output_type": "stream",
     "text": [
      "# users: 12393\n"
     ]
    },
    {
     "data": {
      "text/plain": [
       "user_id\n",
       "5250      21\n",
       "76767     36\n",
       "86540     82\n",
       "103360    10\n",
       "144736     8\n",
       "dtype: int64"
      ]
     },
     "execution_count": 6,
     "metadata": {},
     "output_type": "execute_result"
    }
   ],
   "source": [
    "# Define the threshold for frequent users \n",
    "min_interactions  = 5\n",
    "users_interactions_count_df = interactions_full_df.groupby('user_id').size()\n",
    "print('# users: %d' % len(users_interactions_count_df))\n",
    "users_interactions_count_df.head()"
   ]
  },
  {
   "cell_type": "code",
   "execution_count": 7,
   "metadata": {},
   "outputs": [
    {
     "name": "stdout",
     "output_type": "stream",
     "text": [
      "# users with at least 5 interactions: 3757\n",
      "# of interactions: 200000\n"
     ]
    }
   ],
   "source": [
    "# Get the user id for these frequent users\n",
    "users_with_enough_interactions_df = users_interactions_count_df[users_interactions_count_df >= min_interactions]\\\n",
    "                                    .reset_index()[['user_id']]\n",
    "  \n",
    "print('# users with at least %d interactions: %d' % (min_interactions, len(users_with_enough_interactions_df)))  \n",
    "\n",
    "print('# of interactions: %d' % len(interactions_df))\n"
   ]
  },
  {
   "cell_type": "code",
   "execution_count": 8,
   "metadata": {},
   "outputs": [
    {
     "name": "stdout",
     "output_type": "stream",
     "text": [
      "# of interactions from users with at least 5 interactions: 115139\n"
     ]
    }
   ],
   "source": [
    "# Remove infrequent users  via right join\n",
    "interactions_full_df = interactions_full_df.merge(users_with_enough_interactions_df, \n",
    "                                                               how = 'right',\n",
    "                                                               left_on = 'user_id',\n",
    "                                                               right_on = 'user_id')\n",
    "print('# of interactions from users with at least %d interactions: %d' % (min_interactions, len(interactions_full_df)))\n",
    "\n"
   ]
  },
  {
   "cell_type": "code",
   "execution_count": 9,
   "metadata": {},
   "outputs": [],
   "source": [
    "# Define dummy ID\n",
    "interactions_full_df['content_id'] = interactions_full_df['game'].astype('category').cat.codes\n",
    "interactions_full_df['user_id']    = interactions_full_df['user_id'].astype('category').cat.codes"
   ]
  },
  {
   "cell_type": "code",
   "execution_count": 10,
   "metadata": {},
   "outputs": [
    {
     "data": {
      "text/html": [
       "<div>\n",
       "<style scoped>\n",
       "    .dataframe tbody tr th:only-of-type {\n",
       "        vertical-align: middle;\n",
       "    }\n",
       "\n",
       "    .dataframe tbody tr th {\n",
       "        vertical-align: top;\n",
       "    }\n",
       "\n",
       "    .dataframe thead th {\n",
       "        text-align: right;\n",
       "    }\n",
       "</style>\n",
       "<table border=\"1\" class=\"dataframe\">\n",
       "  <thead>\n",
       "    <tr style=\"text-align: right;\">\n",
       "      <th></th>\n",
       "      <th>user_id</th>\n",
       "      <th>game</th>\n",
       "      <th>hours</th>\n",
       "      <th>view</th>\n",
       "      <th>content_id</th>\n",
       "    </tr>\n",
       "  </thead>\n",
       "  <tbody>\n",
       "    <tr>\n",
       "      <th>0</th>\n",
       "      <td>0</td>\n",
       "      <td>Alien Swarm</td>\n",
       "      <td>5.9</td>\n",
       "      <td>1</td>\n",
       "      <td>226</td>\n",
       "    </tr>\n",
       "    <tr>\n",
       "      <th>1</th>\n",
       "      <td>0</td>\n",
       "      <td>Cities Skylines</td>\n",
       "      <td>145.0</td>\n",
       "      <td>1</td>\n",
       "      <td>846</td>\n",
       "    </tr>\n",
       "    <tr>\n",
       "      <th>2</th>\n",
       "      <td>0</td>\n",
       "      <td>Counter-Strike</td>\n",
       "      <td>1.0</td>\n",
       "      <td>1</td>\n",
       "      <td>972</td>\n",
       "    </tr>\n",
       "    <tr>\n",
       "      <th>3</th>\n",
       "      <td>0</td>\n",
       "      <td>Counter-Strike Source</td>\n",
       "      <td>1.0</td>\n",
       "      <td>1</td>\n",
       "      <td>978</td>\n",
       "    </tr>\n",
       "    <tr>\n",
       "      <th>4</th>\n",
       "      <td>0</td>\n",
       "      <td>Day of Defeat</td>\n",
       "      <td>1.0</td>\n",
       "      <td>1</td>\n",
       "      <td>1125</td>\n",
       "    </tr>\n",
       "  </tbody>\n",
       "</table>\n",
       "</div>"
      ],
      "text/plain": [
       "   user_id                   game  hours  view  content_id\n",
       "0        0            Alien Swarm    5.9     1         226\n",
       "1        0        Cities Skylines  145.0     1         846\n",
       "2        0         Counter-Strike    1.0     1         972\n",
       "3        0  Counter-Strike Source    1.0     1         978\n",
       "4        0          Day of Defeat    1.0     1        1125"
      ]
     },
     "execution_count": 10,
     "metadata": {},
     "output_type": "execute_result"
    }
   ],
   "source": [
    "interactions_full_df.head()"
   ]
  },
  {
   "cell_type": "code",
   "execution_count": 11,
   "metadata": {},
   "outputs": [
    {
     "name": "stdout",
     "output_type": "stream",
     "text": [
      "# of unique user/item interactions: 115139\n"
     ]
    }
   ],
   "source": [
    "# Create a DataFrame with Content Information\n",
    "articles_df = interactions_full_df.groupby(['game', 'content_id'])\\\n",
    "                                  .agg({'user_id': 'count', 'hours': np.sum})[['user_id','hours']]\\\n",
    "                                  .reset_index()\\\n",
    "                                  .rename(columns={'user_id': 'total_users', 'hours': 'total_hours'})\n",
    "\n",
    "print('# of unique user/item interactions: %d' % len(interactions_full_df))"
   ]
  },
  {
   "cell_type": "code",
   "execution_count": 12,
   "metadata": {},
   "outputs": [
    {
     "data": {
      "text/html": [
       "<div>\n",
       "<style scoped>\n",
       "    .dataframe tbody tr th:only-of-type {\n",
       "        vertical-align: middle;\n",
       "    }\n",
       "\n",
       "    .dataframe tbody tr th {\n",
       "        vertical-align: top;\n",
       "    }\n",
       "\n",
       "    .dataframe thead th {\n",
       "        text-align: right;\n",
       "    }\n",
       "</style>\n",
       "<table border=\"1\" class=\"dataframe\">\n",
       "  <thead>\n",
       "    <tr style=\"text-align: right;\">\n",
       "      <th></th>\n",
       "      <th>game</th>\n",
       "      <th>content_id</th>\n",
       "      <th>total_users</th>\n",
       "      <th>total_hours</th>\n",
       "    </tr>\n",
       "  </thead>\n",
       "  <tbody>\n",
       "    <tr>\n",
       "      <th>0</th>\n",
       "      <td>007 Legends</td>\n",
       "      <td>0</td>\n",
       "      <td>1</td>\n",
       "      <td>1.7</td>\n",
       "    </tr>\n",
       "    <tr>\n",
       "      <th>1</th>\n",
       "      <td>0RBITALIS</td>\n",
       "      <td>1</td>\n",
       "      <td>3</td>\n",
       "      <td>4.2</td>\n",
       "    </tr>\n",
       "    <tr>\n",
       "      <th>2</th>\n",
       "      <td>1... 2... 3... KICK IT! (Drop That Beat Like a...</td>\n",
       "      <td>2</td>\n",
       "      <td>7</td>\n",
       "      <td>27.0</td>\n",
       "    </tr>\n",
       "    <tr>\n",
       "      <th>3</th>\n",
       "      <td>10 Second Ninja</td>\n",
       "      <td>3</td>\n",
       "      <td>6</td>\n",
       "      <td>11.9</td>\n",
       "    </tr>\n",
       "    <tr>\n",
       "      <th>4</th>\n",
       "      <td>10,000,000</td>\n",
       "      <td>4</td>\n",
       "      <td>1</td>\n",
       "      <td>4.6</td>\n",
       "    </tr>\n",
       "  </tbody>\n",
       "</table>\n",
       "</div>"
      ],
      "text/plain": [
       "                                                game  content_id  total_users  \\\n",
       "0                                        007 Legends           0            1   \n",
       "1                                          0RBITALIS           1            3   \n",
       "2  1... 2... 3... KICK IT! (Drop That Beat Like a...           2            7   \n",
       "3                                    10 Second Ninja           3            6   \n",
       "4                                         10,000,000           4            1   \n",
       "\n",
       "   total_hours  \n",
       "0          1.7  \n",
       "1          4.2  \n",
       "2         27.0  \n",
       "3         11.9  \n",
       "4          4.6  "
      ]
     },
     "execution_count": 12,
     "metadata": {},
     "output_type": "execute_result"
    }
   ],
   "source": [
    "articles_df.head()"
   ]
  },
  {
   "cell_type": "markdown",
   "metadata": {},
   "source": [
    "##### Save files\n",
    "\n",
    "1.  full interaction data\n",
    "2.  items content data"
   ]
  },
  {
   "cell_type": "code",
   "execution_count": 13,
   "metadata": {},
   "outputs": [],
   "source": [
    "interactions_full_df[['user_id','content_id','game','hours','view']].to_csv('data//interactions_full_df.csv', index = False)\n",
    "articles_df[['content_id', 'game','total_users','total_hours']].to_csv('data//articles_df.csv', index = False)"
   ]
  }
 ],
 "metadata": {
  "kernelspec": {
   "display_name": "Python 3 (ipykernel)",
   "language": "python",
   "name": "python3"
  },
  "language_info": {
   "codemirror_mode": {
    "name": "ipython",
    "version": 3
   },
   "file_extension": ".py",
   "mimetype": "text/x-python",
   "name": "python",
   "nbconvert_exporter": "python",
   "pygments_lexer": "ipython3",
   "version": "3.9.15"
  }
 },
 "nbformat": 4,
 "nbformat_minor": 2
}
